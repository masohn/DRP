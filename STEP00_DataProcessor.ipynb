{
 "cells": [
  {
   "cell_type": "code",
   "source": [
    "import pandas as pd\n",
    "import pubchempy as pcp\n",
    "import pickle\n",
    "import os.path"
   ],
   "metadata": {
    "collapsed": false
   },
   "id": "5ba3832d38a7e5ea",
   "outputs": [],
   "execution_count": null
  },
  {
   "cell_type": "markdown",
   "source": [
    "# File Requirements\n",
    "\n",
    "This Jupyter notebook processes the necessary data for the later models.\n",
    "\n",
    "The following files are required in the `data/STEP00` folder:\n",
    "1. [Cell_line_RMA_proc_basalExp.txt](https://www.cancerrxgene.org/gdsc1000/GDSC1000_WebResources/Home.html)\n",
    "2. [GDSC2_fitted_dose_response_27Oct23.xlsx](https://www.cancerrxgene.org/downloads/bulk_download)\n",
    "3. [drug_list.csv](https://www.cancerrxgene.org/compounds)\n",
    "\n",
    "As the cancer cell line data is too large, it must be downloaded separately. For this purpose, the “RMA normalized expression data for cell-lines” data set must be downloaded via the link above. "
   ],
   "metadata": {
    "collapsed": false
   },
   "id": "c206f0a0bb94985c"
  },
  {
   "cell_type": "markdown",
   "source": [
    "## Load the data\n"
   ],
   "metadata": {
    "collapsed": false
   },
   "id": "49e28d52b83f2ce5"
  },
  {
   "cell_type": "code",
   "source": [
    "ccl_file = \"data/STEP00/Cell_line_RMA_proc_basalExp.txt\"\n",
    "ic50_file = \"data/STEP00/GDSC2_fitted_dose_response_27Oct23.xlsx\"\n",
    "drug_file = \"data/STEP00/drug_list.csv\"\n",
    "\n",
    "ic50_df = pd.read_excel(ic50_file)\n",
    "ccl_df = pd.read_csv(ccl_file, sep=\"\\t\")\n",
    "drugs_df = pd.read_csv(drug_file, skipinitialspace=True)\n",
    "\n",
    "ic50_df = ic50_df[[\"COSMIC_ID\", \"DRUG_ID\", \"LN_IC50\"]]"
   ],
   "metadata": {
    "collapsed": true
   },
   "id": "initial_id",
   "outputs": [],
   "execution_count": null
  },
  {
   "metadata": {},
   "cell_type": "code",
   "source": [
    "ic50_df.head(3)"
   ],
   "id": "374096918808cbb6",
   "outputs": [],
   "execution_count": null
  },
  {
   "metadata": {},
   "cell_type": "code",
   "source": [
    "ccl = ic50_df[\"COSMIC_ID\"].unique()\n",
    "drugs = ic50_df[\"DRUG_ID\"].unique()\n",
    "print(f\"Number of unique COSMIC IDs: {len(ccl)}\")\n",
    "print(f\"Number of unique drug IDs: {len(drugs)}\")"
   ],
   "id": "1705a471023aecd0",
   "outputs": [],
   "execution_count": null
  },
  {
   "cell_type": "markdown",
   "source": [
    "## Find SMILES codes of drugs\n",
    "\n",
    "To find the SMILES codes, the PubCHEM IDs of the respective drugs are required, although not all of them have a PubCHEM ID. \n",
    "This code cell does not necessarily have to be executed, as the ALL_SMILES.csv is already available in the GitHub repository."
   ],
   "metadata": {
    "collapsed": false
   },
   "id": "bc5fd2472d8da23c"
  },
  {
   "cell_type": "code",
   "execution_count": null,
   "outputs": [],
   "source": [
    "if not os.path.isfile(\"data/STEP00/ALL_SMILES.csv\"): \n",
    "    smiles_df = drugs_df[[\"Drug Id\", \"PubCHEM\", \"Datasets\"]]\n",
    "    \n",
    "    # Deletes rows with NA/None/none/several \n",
    "    smiles_df = smiles_df.dropna(subset=[\"PubCHEM\"])\n",
    "    smiles_df = smiles_df[(smiles_df[\"PubCHEM\"] != \"none\")\n",
    "                        & (smiles_df[\"PubCHEM\"] != \"None\")\n",
    "                        & (smiles_df[\"PubCHEM\"] != \"several\")]\n",
    "    \n",
    "    smiles_codes = []\n",
    "    \n",
    "    for index, row in smiles_df.iterrows():\n",
    "        pubchem_id = row[\"PubCHEM\"].split(',')[0]\n",
    "        compound = pcp.Compound.from_cid(pubchem_id)\n",
    "        smiles = compound.isomeric_smiles\n",
    "        smiles_codes.append(smiles)\n",
    "    \n",
    "    smiles_df[\"smiles\"] = smiles_codes\n",
    "    \n",
    "    smiles_df.to_csv(\"data/STEP00/ALL_SMILES.csv\")\n",
    "    \n",
    "else:\n",
    "    print(\"File already exists.\")"
   ],
   "metadata": {
    "collapsed": false
   },
   "id": "f6139e2f891f4d72"
  },
  {
   "cell_type": "markdown",
   "source": [
    "## Filter missing cancer cell line data\n",
    "Gene expression data is not available for every cosmic_id, so these must be filtered."
   ],
   "metadata": {
    "collapsed": false
   },
   "id": "f784fbea6532e3"
  },
  {
   "metadata": {},
   "cell_type": "code",
   "source": [
    "ccl_values = []\n",
    "na_cosmic_ids = []\n",
    "\n",
    "for cosmic_id in ccl:\n",
    "    id = \"DATA.\" + str(cosmic_id)\n",
    "    if id in ccl_df.columns:\n",
    "        ccl_values.append(ccl_df[str(id)].values.tolist())\n",
    "    else:\n",
    "        ccl_values.append(\"NA\")\n",
    "        na_cosmic_ids.append(cosmic_id)\n",
    "        \n",
    "na_count = sum(1 for item in ccl_values if item == \"NA\")\n",
    "\n",
    "print(f\"Number of total cell lines: {len(ccl_values)}\")\n",
    "print(f\"Number of filtered cell lines: {len(ccl_values)-na_count}\")"
   ],
   "id": "f91549f92bd83cda",
   "outputs": [],
   "execution_count": null
  },
  {
   "cell_type": "markdown",
   "source": [
    "## Filter missing drug data\n",
    "\n"
   ],
   "metadata": {
    "collapsed": false
   },
   "id": "52e0c58d2964b888"
  },
  {
   "metadata": {},
   "cell_type": "code",
   "source": [
    "smiles_df = pd.read_csv(\"data/STEP00/ALL_SMILES.csv\")\n",
    "drugs_values = []\n",
    "na_drug_ids = []\n",
    "\n",
    "for drug in drugs:\n",
    "    if drug in smiles_df[\"Drug Id\"].values:\n",
    "        matching_smiles = smiles_df.loc[smiles_df[\"Drug Id\"] == drug, \"smiles\"].values\n",
    "        drugs_values.append(matching_smiles[0]) \n",
    "    else:\n",
    "        drugs_values.append(\"NA\")\n",
    "        na_drug_ids.append(drug)\n",
    "\n",
    "na_count = sum(1 for item in drugs_values if item == \"NA\")\n",
    "\n",
    "print(f\"Number of total drugs: {len(drugs_values)}\")\n",
    "print(f\"Number of filtered drugs: {len(drugs_values)-na_count}\")"
   ],
   "id": "4f9aa5578c4af850",
   "outputs": [],
   "execution_count": null
  },
  {
   "cell_type": "markdown",
   "source": [
    "## Remove pairs with missing data"
   ],
   "metadata": {
    "collapsed": false
   },
   "id": "2eb4276720412342"
  },
  {
   "metadata": {},
   "cell_type": "code",
   "source": [
    "ic50_df_filtered = ic50_df[~ic50_df[\"COSMIC_ID\"].isin(na_cosmic_ids)]\n",
    "\n",
    "print(f\"Original number of rows: {len(ic50_df)}\")\n",
    "print(f\"Number of rows after filtering NA COSMIC IDs: {len(ic50_df_filtered)}\")\n",
    "\n",
    "ic50_df_filtered = ic50_df_filtered[~ic50_df_filtered[\"DRUG_ID\"].isin(na_drug_ids)]\n",
    "\n",
    "print(f\"Number of rows after filtering NA DRUG IDs: {len(ic50_df_filtered)}\")"
   ],
   "id": "3cc2a2a3cca98c1b",
   "outputs": [],
   "execution_count": null
  },
  {
   "metadata": {},
   "cell_type": "code",
   "source": [
    "ic50_df_filtered = ic50_df_filtered.reset_index(drop=True)"
   ],
   "id": "e88f44999f3bca2d",
   "outputs": [],
   "execution_count": null
  },
  {
   "metadata": {},
   "cell_type": "code",
   "source": [
    "ic50_df_filtered.to_csv(\"data/STEP00/CCL_SMILES_IC50.csv\", index_label=\"index\")"
   ],
   "id": "1e1113e8995d226",
   "outputs": [],
   "execution_count": null
  },
  {
   "cell_type": "markdown",
   "source": [
    "## Generate lookup dictionaries"
   ],
   "metadata": {
    "collapsed": false
   },
   "id": "fb7e9d3ff52b91f"
  },
  {
   "metadata": {},
   "cell_type": "code",
   "source": [
    "ccl_dict = dict(zip(ccl, ccl_values))\n",
    "smiles_dict = dict(zip(drugs, drugs_values))\n",
    "\n",
    "with open(\"data/STEP00/ccl_lookup.pkl\", \"wb\") as f:\n",
    "    pickle.dump(ccl_dict, f)\n",
    "    \n",
    "with open(\"data/STEP00/smiles_lookup.pkl\", \"wb\") as f:\n",
    "    pickle.dump(smiles_dict, f)    "
   ],
   "id": "6dabab9b91a849d8",
   "outputs": [],
   "execution_count": null
  },
  {
   "metadata": {},
   "cell_type": "code",
   "source": [
    "from collections import Counter\n",
    "\n",
    "# Two drugs share the same SMILES code\n",
    "smiles_dict = {key: value for key, value in smiles_dict.items() if value != \"NA\"}\n",
    "values = list(smiles_dict.values())\n",
    "value_counts = Counter(values)\n",
    "print(value_counts)"
   ],
   "id": "8f60ad84e8f4271f",
   "outputs": [],
   "execution_count": null
  },
  {
   "cell_type": "code",
   "execution_count": null,
   "outputs": [],
   "source": [],
   "metadata": {
    "collapsed": false
   },
   "id": "59a783fa56a64807"
  }
 ],
 "metadata": {
  "kernelspec": {
   "display_name": "Python 3",
   "language": "python",
   "name": "python3"
  },
  "language_info": {
   "codemirror_mode": {
    "name": "ipython",
    "version": 2
   },
   "file_extension": ".py",
   "mimetype": "text/x-python",
   "name": "python",
   "nbconvert_exporter": "python",
   "pygments_lexer": "ipython2",
   "version": "2.7.6"
  }
 },
 "nbformat": 4,
 "nbformat_minor": 5
}
